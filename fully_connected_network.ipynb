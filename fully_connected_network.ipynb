{
  "nbformat": 4,
  "nbformat_minor": 0,
  "metadata": {
    "colab": {
      "provenance": []
    },
    "kernelspec": {
      "name": "python3",
      "display_name": "Python 3"
    },
    "language_info": {
      "name": "python"
    }
  },
  "cells": [
    {
      "cell_type": "markdown",
      "source": [
        "**import libraries**"
      ],
      "metadata": {
        "id": "s6ih7EbVjhiE"
      }
    },
    {
      "cell_type": "markdown",
      "source": [
        "### **Data processing**"
      ],
      "metadata": {
        "id": "VvAh_V7tT1o5"
      }
    },
    {
      "cell_type": "code",
      "source": [
        "import torch\n",
        "from sklearn.datasets import load_iris\n",
        "from sklearn.model_selection import train_test_split\n",
        "from sklearn.preprocessing import StandardScaler"
      ],
      "metadata": {
        "id": "-ZXOXCqVT0zR"
      },
      "execution_count": 2,
      "outputs": []
    },
    {
      "cell_type": "code",
      "source": [
        "iris=load_iris()\n",
        "X=iris.data\n",
        "y=iris.target\n",
        "\n",
        "X_train,x_test,y_train,y_test=train_test_split(X,y,test_size=0.2,random_state=42)\n",
        "\n",
        "scaler=StandardScaler()\n",
        "X_train=torch.tensor(scaler.fit_transform(X_train),dtype=torch.float32)\n",
        "x_test=torch.tensor(scaler.fit_transform(x_test),dtype=torch.float32)\n",
        "\n",
        "y_train=torch.tensor(y_train,dtype=torch.long)\n",
        "y_test=torch.tensor(y_test,dtype=torch.long)"
      ],
      "metadata": {
        "id": "KI0Bt032UXUr"
      },
      "execution_count": 14,
      "outputs": []
    },
    {
      "cell_type": "markdown",
      "source": [
        "### **Bulding Model**"
      ],
      "metadata": {
        "id": "mDQ4F09OVfuJ"
      }
    },
    {
      "cell_type": "code",
      "source": [
        "import torch.nn as nn\n",
        "\n",
        "model=nn.Sequential(\n",
        "    nn.Linear(4,16),\n",
        "    nn.ReLU(),\n",
        "    nn.Linear(16,16),\n",
        "    nn.ReLU(),\n",
        "    nn.Linear(16,8),\n",
        "    nn.ReLU(),\n",
        "    nn.Linear(8,3)\n",
        "\n",
        ")"
      ],
      "metadata": {
        "id": "L_t533xDVa4H"
      },
      "execution_count": 15,
      "outputs": []
    },
    {
      "cell_type": "markdown",
      "source": [
        "### **optimization**"
      ],
      "metadata": {
        "id": "dJRpRewfW2vh"
      }
    },
    {
      "cell_type": "code",
      "source": [
        "import torch.optim as optim\n",
        "\n",
        "loss_func = nn.CrossEntropyLoss()\n",
        "optimizer = optim.Adam(model.parameters(), lr=0.01)"
      ],
      "metadata": {
        "id": "2VIHIhm6Wcsa"
      },
      "execution_count": 16,
      "outputs": []
    },
    {
      "cell_type": "markdown",
      "source": [
        "### **Training The Model**"
      ],
      "metadata": {
        "id": "wx60iNVhY0dv"
      }
    },
    {
      "cell_type": "code",
      "source": [
        "epochs=100\n",
        "\n",
        "for epoch in range(epochs):\n",
        "  optimizer.zero_grad()\n",
        "  outputs=model(X_train)\n",
        "  loss = loss_func(outputs, y_train)\n",
        "  loss.backward()\n",
        "  optimizer.step()\n",
        "\n",
        "  if (epoch+1)%10==0:\n",
        "    print(f\"Epoch {epoch+1}, Loss: {loss.item():.4f}\")"
      ],
      "metadata": {
        "colab": {
          "base_uri": "https://localhost:8080/"
        },
        "id": "NjDzzBhUYz0X",
        "outputId": "a632ead9-b1a2-4a5c-e6bf-7b4357475374"
      },
      "execution_count": 19,
      "outputs": [
        {
          "output_type": "stream",
          "name": "stdout",
          "text": [
            "Epoch 10, Loss: 0.8419\n",
            "Epoch 20, Loss: 0.4782\n",
            "Epoch 30, Loss: 0.2473\n",
            "Epoch 40, Loss: 0.1042\n",
            "Epoch 50, Loss: 0.0589\n",
            "Epoch 60, Loss: 0.0448\n",
            "Epoch 70, Loss: 0.0420\n",
            "Epoch 80, Loss: 0.0401\n",
            "Epoch 90, Loss: 0.0392\n",
            "Epoch 100, Loss: 0.0386\n"
          ]
        }
      ]
    },
    {
      "cell_type": "markdown",
      "source": [
        "### **testing the model**"
      ],
      "metadata": {
        "id": "zxkIrxJiZ22G"
      }
    },
    {
      "cell_type": "code",
      "source": [
        "model.eval()\n",
        "with torch.no_grad():\n",
        "  outputs=model(x_test)\n",
        "  _,predicted=torch.max(outputs,1)\n",
        "  accuracy = (predicted == y_test).float().mean().item()\n",
        "\n",
        "print(f\"Accuracy: {accuracy * 100:.2f}%\")"
      ],
      "metadata": {
        "colab": {
          "base_uri": "https://localhost:8080/"
        },
        "id": "dgYihsJLZ_Of",
        "outputId": "edc49789-73a2-4537-972a-207b7ab7f050"
      },
      "execution_count": 22,
      "outputs": [
        {
          "output_type": "stream",
          "name": "stdout",
          "text": [
            "Accuracy: 90.00%\n"
          ]
        }
      ]
    }
  ]
}